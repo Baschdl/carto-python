{
 "cells": [
  {
   "cell_type": "markdown",
   "metadata": {},
   "source": [
    "We are going to show how to work with the CARTO custom visualizations (aka Kuviz).\n",
    "\n",
    "We are going to start creating tje Auth client and we will use it in every example.\n",
    "\n",
    "You only need to complete the following cell:"
   ]
  },
  {
   "cell_type": "code",
   "execution_count": null,
   "metadata": {},
   "outputs": [],
   "source": [
    "USERNAME = \"\"\n",
    "BASE_URL = \"https://{u}.carto.com\".format(u=USERNAME)\n",
    "API_KEY = \"\""
   ]
  },
  {
   "cell_type": "code",
   "execution_count": null,
   "metadata": {},
   "outputs": [],
   "source": [
    "from carto.auth import APIKeyAuthClient\n",
    "\n",
    "auth_client = APIKeyAuthClient(api_key=API_KEY, base_url=BASE_URL)"
   ]
  },
  {
   "cell_type": "markdown",
   "metadata": {},
   "source": [
    "# Kuviz manager creation"
   ]
  },
  {
   "cell_type": "code",
   "execution_count": null,
   "metadata": {},
   "outputs": [],
   "source": [
    "from carto.kuvizs import Kuviz, KuvizManager\n",
    "\n",
    "km = KuvizManager(auth_client)"
   ]
  },
  {
   "cell_type": "markdown",
   "metadata": {},
   "source": [
    "# Create public Kuviz"
   ]
  },
  {
   "cell_type": "code",
   "execution_count": null,
   "metadata": {},
   "outputs": [],
   "source": [
    "html = \"<html><body><h1>Working with CARTO Kuviz</h1></body></html>\"\n",
    "public_kuviz = km.create(html=html, name=\"kuviz-public-test\")\n",
    "\n",
    "print(public_kuviz.id)\n",
    "print(public_kuviz.url)\n",
    "print(public_kuviz.privacy)"
   ]
  },
  {
   "cell_type": "markdown",
   "metadata": {},
   "source": [
    "# Create Kuviz protected by password"
   ]
  },
  {
   "cell_type": "code",
   "execution_count": null,
   "metadata": {},
   "outputs": [],
   "source": [
    "html = \"<html><body><h1>Working with CARTO Kuviz</h1></body></html>\"\n",
    "password_kuviz = km.create(html=html, name=\"kuviz-password-test\", password=\"1234\")\n",
    "\n",
    "print(password_kuviz.id)\n",
    "print(password_kuviz.url)\n",
    "print(password_kuviz.privacy)"
   ]
  },
  {
   "cell_type": "markdown",
   "metadata": {},
   "source": [
    "# Update a kuviz"
   ]
  },
  {
   "cell_type": "code",
   "execution_count": null,
   "metadata": {},
   "outputs": [],
   "source": [
    "new_html = \"<html><body><h1>Another HTML</h1></body></html>\"\n",
    "password_kuviz.data = new_html\n",
    "password_kuviz.save()\n",
    "\n",
    "print(password_kuviz.id)\n",
    "print(password_kuviz.url)\n",
    "print(password_kuviz.privacy)"
   ]
  },
  {
   "cell_type": "markdown",
   "metadata": {},
   "source": [
    "If you want to remove the password:"
   ]
  },
  {
   "cell_type": "code",
   "execution_count": null,
   "metadata": {},
   "outputs": [],
   "source": [
    "password_kuviz.password = None\n",
    "password_kuviz.save()\n",
    "\n",
    "print(password_kuviz.id)\n",
    "print(password_kuviz.url)\n",
    "print(password_kuviz.privacy)"
   ]
  },
  {
   "cell_type": "markdown",
   "metadata": {},
   "source": [
    "And if you want to add the password again:"
   ]
  },
  {
   "cell_type": "code",
   "execution_count": null,
   "metadata": {},
   "outputs": [],
   "source": [
    "password_kuviz.password = \"1234\"\n",
    "password_kuviz.save()\n",
    "\n",
    "print(password_kuviz.id)\n",
    "print(password_kuviz.url)\n",
    "print(password_kuviz.privacy)"
   ]
  },
  {
   "cell_type": "markdown",
   "metadata": {},
   "source": [
    "# Delete a kuviz"
   ]
  },
  {
   "cell_type": "code",
   "execution_count": null,
   "metadata": {},
   "outputs": [],
   "source": [
    "password_kuviz.delete()"
   ]
  }
 ],
 "metadata": {
  "kernelspec": {
   "display_name": "env",
   "language": "python",
   "name": "env"
  },
  "language_info": {
   "codemirror_mode": {
    "name": "ipython",
    "version": 3
   },
   "file_extension": ".py",
   "mimetype": "text/x-python",
   "name": "python",
   "nbconvert_exporter": "python",
   "pygments_lexer": "ipython3",
   "version": "3.6.8"
  }
 },
 "nbformat": 4,
 "nbformat_minor": 2
}
